{
 "cells": [
  {
   "cell_type": "markdown",
   "metadata": {},
   "source": [
    "<h1> Customer Segmentation Analysis </h1>\n",
    "\n",
    "<b> Objective :</b> Analyze customer shopping pattern to create different segments or groups of customers."
   ]
  },
  {
   "cell_type": "code",
   "execution_count": 303,
   "metadata": {},
   "outputs": [],
   "source": [
    "import pandas as pd\n",
    "import seaborn as sns\n",
    "import matplotlib.pyplot as plt\n",
    "import numpy as np"
   ]
  },
  {
   "cell_type": "code",
   "execution_count": 304,
   "metadata": {},
   "outputs": [
    {
     "data": {
      "text/html": [
       "<div>\n",
       "<style scoped>\n",
       "    .dataframe tbody tr th:only-of-type {\n",
       "        vertical-align: middle;\n",
       "    }\n",
       "\n",
       "    .dataframe tbody tr th {\n",
       "        vertical-align: top;\n",
       "    }\n",
       "\n",
       "    .dataframe thead th {\n",
       "        text-align: right;\n",
       "    }\n",
       "</style>\n",
       "<table border=\"1\" class=\"dataframe\">\n",
       "  <thead>\n",
       "    <tr style=\"text-align: right;\">\n",
       "      <th></th>\n",
       "      <th>InvoiceNo</th>\n",
       "      <th>StockCode</th>\n",
       "      <th>Description</th>\n",
       "      <th>Quantity</th>\n",
       "      <th>InvoiceDate</th>\n",
       "      <th>UnitPrice</th>\n",
       "      <th>CustomerID</th>\n",
       "      <th>Country</th>\n",
       "    </tr>\n",
       "  </thead>\n",
       "  <tbody>\n",
       "    <tr>\n",
       "      <th>0</th>\n",
       "      <td>536365</td>\n",
       "      <td>85123A</td>\n",
       "      <td>WHITE HANGING HEART T-LIGHT HOLDER</td>\n",
       "      <td>6</td>\n",
       "      <td>2010-12-01 08:26:00</td>\n",
       "      <td>2.55</td>\n",
       "      <td>17850.0</td>\n",
       "      <td>United Kingdom</td>\n",
       "    </tr>\n",
       "    <tr>\n",
       "      <th>1</th>\n",
       "      <td>536365</td>\n",
       "      <td>71053</td>\n",
       "      <td>WHITE METAL LANTERN</td>\n",
       "      <td>6</td>\n",
       "      <td>2010-12-01 08:26:00</td>\n",
       "      <td>3.39</td>\n",
       "      <td>17850.0</td>\n",
       "      <td>United Kingdom</td>\n",
       "    </tr>\n",
       "    <tr>\n",
       "      <th>2</th>\n",
       "      <td>536365</td>\n",
       "      <td>84406B</td>\n",
       "      <td>CREAM CUPID HEARTS COAT HANGER</td>\n",
       "      <td>8</td>\n",
       "      <td>2010-12-01 08:26:00</td>\n",
       "      <td>2.75</td>\n",
       "      <td>17850.0</td>\n",
       "      <td>United Kingdom</td>\n",
       "    </tr>\n",
       "    <tr>\n",
       "      <th>3</th>\n",
       "      <td>536365</td>\n",
       "      <td>84029G</td>\n",
       "      <td>KNITTED UNION FLAG HOT WATER BOTTLE</td>\n",
       "      <td>6</td>\n",
       "      <td>2010-12-01 08:26:00</td>\n",
       "      <td>3.39</td>\n",
       "      <td>17850.0</td>\n",
       "      <td>United Kingdom</td>\n",
       "    </tr>\n",
       "    <tr>\n",
       "      <th>4</th>\n",
       "      <td>536365</td>\n",
       "      <td>84029E</td>\n",
       "      <td>RED WOOLLY HOTTIE WHITE HEART.</td>\n",
       "      <td>6</td>\n",
       "      <td>2010-12-01 08:26:00</td>\n",
       "      <td>3.39</td>\n",
       "      <td>17850.0</td>\n",
       "      <td>United Kingdom</td>\n",
       "    </tr>\n",
       "  </tbody>\n",
       "</table>\n",
       "</div>"
      ],
      "text/plain": [
       "  InvoiceNo StockCode                          Description  Quantity  \\\n",
       "0    536365    85123A   WHITE HANGING HEART T-LIGHT HOLDER         6   \n",
       "1    536365     71053                  WHITE METAL LANTERN         6   \n",
       "2    536365    84406B       CREAM CUPID HEARTS COAT HANGER         8   \n",
       "3    536365    84029G  KNITTED UNION FLAG HOT WATER BOTTLE         6   \n",
       "4    536365    84029E       RED WOOLLY HOTTIE WHITE HEART.         6   \n",
       "\n",
       "          InvoiceDate  UnitPrice  CustomerID         Country  \n",
       "0 2010-12-01 08:26:00       2.55     17850.0  United Kingdom  \n",
       "1 2010-12-01 08:26:00       3.39     17850.0  United Kingdom  \n",
       "2 2010-12-01 08:26:00       2.75     17850.0  United Kingdom  \n",
       "3 2010-12-01 08:26:00       3.39     17850.0  United Kingdom  \n",
       "4 2010-12-01 08:26:00       3.39     17850.0  United Kingdom  "
      ]
     },
     "execution_count": 304,
     "metadata": {},
     "output_type": "execute_result"
    }
   ],
   "source": [
    "raw = pd.read_csv('Online Retail.csv',encoding=\"ISO-8859-1\")\n",
    "raw.InvoiceDate = pd.to_datetime(raw[\"InvoiceDate\"])\n",
    "raw.head()"
   ]
  },
  {
   "cell_type": "code",
   "execution_count": 305,
   "metadata": {},
   "outputs": [
    {
     "name": "stdout",
     "output_type": "stream",
     "text": [
      "<class 'pandas.core.frame.DataFrame'>\n",
      "RangeIndex: 541909 entries, 0 to 541908\n",
      "Data columns (total 8 columns):\n",
      "InvoiceNo      541909 non-null object\n",
      "StockCode      541909 non-null object\n",
      "Description    540455 non-null object\n",
      "Quantity       541909 non-null int64\n",
      "InvoiceDate    541909 non-null datetime64[ns]\n",
      "UnitPrice      541909 non-null float64\n",
      "CustomerID     406829 non-null float64\n",
      "Country        541909 non-null object\n",
      "dtypes: datetime64[ns](1), float64(2), int64(1), object(4)\n",
      "memory usage: 33.1+ MB\n"
     ]
    }
   ],
   "source": [
    "raw.info()"
   ]
  },
  {
   "cell_type": "code",
   "execution_count": 306,
   "metadata": {},
   "outputs": [],
   "source": [
    "#As seen from above, there are missing values in customerID so lets filter those records\n",
    "\n",
    "raw=raw[pd.notnull(raw.CustomerID)]\n",
    "\n",
    "#There do exist some bad records where the quanity is in negative which is can not be true so lets filter them out\n",
    "\n",
    "raw = raw[raw.Quantity>0]"
   ]
  },
  {
   "cell_type": "markdown",
   "metadata": {},
   "source": [
    "<h3>Before we create the clusters, let's perform exploratory data analysis on the given dataset</h3>"
   ]
  },
  {
   "cell_type": "code",
   "execution_count": 307,
   "metadata": {},
   "outputs": [
    {
     "data": {
      "text/html": [
       "<div>\n",
       "<style scoped>\n",
       "    .dataframe tbody tr th:only-of-type {\n",
       "        vertical-align: middle;\n",
       "    }\n",
       "\n",
       "    .dataframe tbody tr th {\n",
       "        vertical-align: top;\n",
       "    }\n",
       "\n",
       "    .dataframe thead th {\n",
       "        text-align: right;\n",
       "    }\n",
       "</style>\n",
       "<table border=\"1\" class=\"dataframe\">\n",
       "  <thead>\n",
       "    <tr style=\"text-align: right;\">\n",
       "      <th></th>\n",
       "      <th>InvoiceNo</th>\n",
       "    </tr>\n",
       "    <tr>\n",
       "      <th>Country</th>\n",
       "      <th></th>\n",
       "    </tr>\n",
       "  </thead>\n",
       "  <tbody>\n",
       "    <tr>\n",
       "      <th>United Kingdom</th>\n",
       "      <td>89.048411</td>\n",
       "    </tr>\n",
       "    <tr>\n",
       "      <th>Germany</th>\n",
       "      <td>2.272293</td>\n",
       "    </tr>\n",
       "    <tr>\n",
       "      <th>France</th>\n",
       "      <td>2.096380</td>\n",
       "    </tr>\n",
       "    <tr>\n",
       "      <th>EIRE</th>\n",
       "      <td>1.818940</td>\n",
       "    </tr>\n",
       "    <tr>\n",
       "      <th>Spain</th>\n",
       "      <td>0.624491</td>\n",
       "    </tr>\n",
       "    <tr>\n",
       "      <th>Netherlands</th>\n",
       "      <td>0.593832</td>\n",
       "    </tr>\n",
       "    <tr>\n",
       "      <th>Belgium</th>\n",
       "      <td>0.510399</td>\n",
       "    </tr>\n",
       "    <tr>\n",
       "      <th>Switzerland</th>\n",
       "      <td>0.462902</td>\n",
       "    </tr>\n",
       "    <tr>\n",
       "      <th>Portugal</th>\n",
       "      <td>0.367407</td>\n",
       "    </tr>\n",
       "    <tr>\n",
       "      <th>Australia</th>\n",
       "      <td>0.297796</td>\n",
       "    </tr>\n",
       "    <tr>\n",
       "      <th>Norway</th>\n",
       "      <td>0.269398</td>\n",
       "    </tr>\n",
       "    <tr>\n",
       "      <th>Italy</th>\n",
       "      <td>0.190489</td>\n",
       "    </tr>\n",
       "    <tr>\n",
       "      <th>Channel Islands</th>\n",
       "      <td>0.187976</td>\n",
       "    </tr>\n",
       "    <tr>\n",
       "      <th>Finland</th>\n",
       "      <td>0.172143</td>\n",
       "    </tr>\n",
       "    <tr>\n",
       "      <th>Cyprus</th>\n",
       "      <td>0.154301</td>\n",
       "    </tr>\n",
       "    <tr>\n",
       "      <th>Sweden</th>\n",
       "      <td>0.113338</td>\n",
       "    </tr>\n",
       "    <tr>\n",
       "      <th>Austria</th>\n",
       "      <td>0.100019</td>\n",
       "    </tr>\n",
       "    <tr>\n",
       "      <th>Denmark</th>\n",
       "      <td>0.095496</td>\n",
       "    </tr>\n",
       "    <tr>\n",
       "      <th>Poland</th>\n",
       "      <td>0.082930</td>\n",
       "    </tr>\n",
       "    <tr>\n",
       "      <th>Japan</th>\n",
       "      <td>0.080669</td>\n",
       "    </tr>\n",
       "    <tr>\n",
       "      <th>Israel</th>\n",
       "      <td>0.062323</td>\n",
       "    </tr>\n",
       "    <tr>\n",
       "      <th>Unspecified</th>\n",
       "      <td>0.061318</td>\n",
       "    </tr>\n",
       "    <tr>\n",
       "      <th>Singapore</th>\n",
       "      <td>0.055790</td>\n",
       "    </tr>\n",
       "    <tr>\n",
       "      <th>Iceland</th>\n",
       "      <td>0.045737</td>\n",
       "    </tr>\n",
       "    <tr>\n",
       "      <th>USA</th>\n",
       "      <td>0.044983</td>\n",
       "    </tr>\n",
       "    <tr>\n",
       "      <th>Canada</th>\n",
       "      <td>0.037947</td>\n",
       "    </tr>\n",
       "    <tr>\n",
       "      <th>Greece</th>\n",
       "      <td>0.036439</td>\n",
       "    </tr>\n",
       "    <tr>\n",
       "      <th>Malta</th>\n",
       "      <td>0.028146</td>\n",
       "    </tr>\n",
       "    <tr>\n",
       "      <th>United Arab Emirates</th>\n",
       "      <td>0.017089</td>\n",
       "    </tr>\n",
       "    <tr>\n",
       "      <th>European Community</th>\n",
       "      <td>0.015078</td>\n",
       "    </tr>\n",
       "    <tr>\n",
       "      <th>RSA</th>\n",
       "      <td>0.014576</td>\n",
       "    </tr>\n",
       "    <tr>\n",
       "      <th>Lebanon</th>\n",
       "      <td>0.011309</td>\n",
       "    </tr>\n",
       "    <tr>\n",
       "      <th>Lithuania</th>\n",
       "      <td>0.008796</td>\n",
       "    </tr>\n",
       "    <tr>\n",
       "      <th>Brazil</th>\n",
       "      <td>0.008042</td>\n",
       "    </tr>\n",
       "    <tr>\n",
       "      <th>Czech Republic</th>\n",
       "      <td>0.006283</td>\n",
       "    </tr>\n",
       "    <tr>\n",
       "      <th>Bahrain</th>\n",
       "      <td>0.004272</td>\n",
       "    </tr>\n",
       "    <tr>\n",
       "      <th>Saudi Arabia</th>\n",
       "      <td>0.002262</td>\n",
       "    </tr>\n",
       "  </tbody>\n",
       "</table>\n",
       "</div>"
      ],
      "text/plain": [
       "                      InvoiceNo\n",
       "Country                        \n",
       "United Kingdom        89.048411\n",
       "Germany                2.272293\n",
       "France                 2.096380\n",
       "EIRE                   1.818940\n",
       "Spain                  0.624491\n",
       "Netherlands            0.593832\n",
       "Belgium                0.510399\n",
       "Switzerland            0.462902\n",
       "Portugal               0.367407\n",
       "Australia              0.297796\n",
       "Norway                 0.269398\n",
       "Italy                  0.190489\n",
       "Channel Islands        0.187976\n",
       "Finland                0.172143\n",
       "Cyprus                 0.154301\n",
       "Sweden                 0.113338\n",
       "Austria                0.100019\n",
       "Denmark                0.095496\n",
       "Poland                 0.082930\n",
       "Japan                  0.080669\n",
       "Israel                 0.062323\n",
       "Unspecified            0.061318\n",
       "Singapore              0.055790\n",
       "Iceland                0.045737\n",
       "USA                    0.044983\n",
       "Canada                 0.037947\n",
       "Greece                 0.036439\n",
       "Malta                  0.028146\n",
       "United Arab Emirates   0.017089\n",
       "European Community     0.015078\n",
       "RSA                    0.014576\n",
       "Lebanon                0.011309\n",
       "Lithuania              0.008796\n",
       "Brazil                 0.008042\n",
       "Czech Republic         0.006283\n",
       "Bahrain                0.004272\n",
       "Saudi Arabia           0.002262"
      ]
     },
     "execution_count": 307,
     "metadata": {},
     "output_type": "execute_result"
    }
   ],
   "source": [
    "#Question: Which country has the highest number of online orders?\n",
    "#Answer: United Kingdom has almost 91% of total orders.\n",
    "\n",
    "freq = raw.groupby('Country').InvoiceNo.count().sort_values(ascending=False)\n",
    "\n",
    "freq1 = pd.DataFrame(freq)\n",
    "freq1.iloc[:,:1].apply(lambda x: x*100/sum(x))"
   ]
  },
  {
   "cell_type": "code",
   "execution_count": 308,
   "metadata": {},
   "outputs": [],
   "source": [
    "#Question 2: Which day of the week or month had the most number of order \n",
    "\n",
    "raw2=pd.DataFrame(data=np.ones(raw.iloc[:,:1].shape,dtype=int),index=raw.InvoiceDate)\n",
    "raw2.rename(columns={0:'count'},inplace=True)"
   ]
  },
  {
   "cell_type": "code",
   "execution_count": 309,
   "metadata": {},
   "outputs": [],
   "source": [
    "raw2['month'] = [x.month for x in raw2.index]\n",
    "raw2['day'] = [x.day for x in raw2.index]\n",
    "raw2['hour'] = [x.hour for x in raw2.index]"
   ]
  },
  {
   "cell_type": "code",
   "execution_count": 310,
   "metadata": {},
   "outputs": [
    {
     "data": {
      "text/plain": [
       "<matplotlib.axes._subplots.AxesSubplot at 0x210badd2710>"
      ]
     },
     "execution_count": 310,
     "metadata": {},
     "output_type": "execute_result"
    },
    {
     "data": {
      "image/png": "[encoded data removed]",
      "text/plain": [
       "<Figure size 1080x576 with 1 Axes>"
      ]
     },
     "metadata": {
      "needs_background": "light"
     },
     "output_type": "display_data"
    }
   ],
   "source": [
    "raw2.groupby('day')['count'].sum().plot.bar(figsize=(15,8), title= 'Orders Count(Daywise)', fontsize=14)"
   ]
  },
  {
   "cell_type": "code",
   "execution_count": 311,
   "metadata": {},
   "outputs": [
    {
     "data": {
      "text/plain": [
       "<matplotlib.axes._subplots.AxesSubplot at 0x210c0983cf8>"
      ]
     },
     "execution_count": 311,
     "metadata": {},
     "output_type": "execute_result"
    },
    {
     "data": {
      "image/png": "[encoded data removed]",
      "text/plain": [
       "<Figure size 1080x576 with 1 Axes>"
      ]
     },
     "metadata": {
      "needs_background": "light"
     },
     "output_type": "display_data"
    }
   ],
   "source": [
    "raw2.groupby('hour')['count'].sum().plot.bar(figsize=(15,8), title= 'Orders Count(Hourwise)', fontsize=14)"
   ]
  },
  {
   "cell_type": "markdown",
   "metadata": {},
   "source": [
    "<h3> Now lets work on segmentation below </h3>\n",
    "\n",
    "<b> Approach: </b>\n",
    "\n",
    "Before creating the customer segmentation we need to assign scores to individual customers based on which we would be creating the clusters. The score would be assigned using RFM analysis. RFM can be described as:\n",
    "\n",
    "<> Recency — How recently did the customer purchase?<br>\n",
    "<> Frequency — How often do they purchase?<br>\n",
    "<> Monetary Value — How much do they spend?<br>\n",
    "\n",
    "\n",
    "To calculate Recency, we’ll look into the invoice dates. Since the date of our last invoice was 2011–12–09, we’ll consider it as the most recent one. Then, we’ll subtract each day from the day after to calculate the other ‘recencies’.\n",
    "\n",
    "To calculate frequency, we’ll simply sum the invoice numbers for each customer. For the monetary value, we will multiply the unitary price by the quantity bought and sum them for each client.\n",
    "\n",
    "To calculate the monetary value, we'll simply calculate the total price by multiplying the unit price and quantity per transaction and then we would aggregate it by customer to get the total monetary value per customer.\n"
   ]
  },
  {
   "cell_type": "code",
   "execution_count": 312,
   "metadata": {},
   "outputs": [],
   "source": [
    "max_date= raw.InvoiceDate.max()\n",
    "\n",
    "raw['Total_Price'] = raw.UnitPrice * raw.Quantity"
   ]
  },
  {
   "cell_type": "code",
   "execution_count": 313,
   "metadata": {},
   "outputs": [
    {
     "data": {
      "text/html": [
       "<div>\n",
       "<style scoped>\n",
       "    .dataframe tbody tr th:only-of-type {\n",
       "        vertical-align: middle;\n",
       "    }\n",
       "\n",
       "    .dataframe tbody tr th {\n",
       "        vertical-align: top;\n",
       "    }\n",
       "\n",
       "    .dataframe thead th {\n",
       "        text-align: right;\n",
       "    }\n",
       "</style>\n",
       "<table border=\"1\" class=\"dataframe\">\n",
       "  <thead>\n",
       "    <tr style=\"text-align: right;\">\n",
       "      <th></th>\n",
       "      <th>InvoiceNo</th>\n",
       "      <th>StockCode</th>\n",
       "      <th>Description</th>\n",
       "      <th>Quantity</th>\n",
       "      <th>InvoiceDate</th>\n",
       "      <th>UnitPrice</th>\n",
       "      <th>CustomerID</th>\n",
       "      <th>Country</th>\n",
       "      <th>Total_Price</th>\n",
       "    </tr>\n",
       "  </thead>\n",
       "  <tbody>\n",
       "    <tr>\n",
       "      <th>0</th>\n",
       "      <td>536365</td>\n",
       "      <td>85123A</td>\n",
       "      <td>WHITE HANGING HEART T-LIGHT HOLDER</td>\n",
       "      <td>6</td>\n",
       "      <td>2010-12-01 08:26:00</td>\n",
       "      <td>2.55</td>\n",
       "      <td>17850.0</td>\n",
       "      <td>United Kingdom</td>\n",
       "      <td>15.30</td>\n",
       "    </tr>\n",
       "    <tr>\n",
       "      <th>1</th>\n",
       "      <td>536365</td>\n",
       "      <td>71053</td>\n",
       "      <td>WHITE METAL LANTERN</td>\n",
       "      <td>6</td>\n",
       "      <td>2010-12-01 08:26:00</td>\n",
       "      <td>3.39</td>\n",
       "      <td>17850.0</td>\n",
       "      <td>United Kingdom</td>\n",
       "      <td>20.34</td>\n",
       "    </tr>\n",
       "    <tr>\n",
       "      <th>2</th>\n",
       "      <td>536365</td>\n",
       "      <td>84406B</td>\n",
       "      <td>CREAM CUPID HEARTS COAT HANGER</td>\n",
       "      <td>8</td>\n",
       "      <td>2010-12-01 08:26:00</td>\n",
       "      <td>2.75</td>\n",
       "      <td>17850.0</td>\n",
       "      <td>United Kingdom</td>\n",
       "      <td>22.00</td>\n",
       "    </tr>\n",
       "    <tr>\n",
       "      <th>3</th>\n",
       "      <td>536365</td>\n",
       "      <td>84029G</td>\n",
       "      <td>KNITTED UNION FLAG HOT WATER BOTTLE</td>\n",
       "      <td>6</td>\n",
       "      <td>2010-12-01 08:26:00</td>\n",
       "      <td>3.39</td>\n",
       "      <td>17850.0</td>\n",
       "      <td>United Kingdom</td>\n",
       "      <td>20.34</td>\n",
       "    </tr>\n",
       "    <tr>\n",
       "      <th>4</th>\n",
       "      <td>536365</td>\n",
       "      <td>84029E</td>\n",
       "      <td>RED WOOLLY HOTTIE WHITE HEART.</td>\n",
       "      <td>6</td>\n",
       "      <td>2010-12-01 08:26:00</td>\n",
       "      <td>3.39</td>\n",
       "      <td>17850.0</td>\n",
       "      <td>United Kingdom</td>\n",
       "      <td>20.34</td>\n",
       "    </tr>\n",
       "  </tbody>\n",
       "</table>\n",
       "</div>"
      ],
      "text/plain": [
       "  InvoiceNo StockCode                          Description  Quantity  \\\n",
       "0    536365    85123A   WHITE HANGING HEART T-LIGHT HOLDER         6   \n",
       "1    536365     71053                  WHITE METAL LANTERN         6   \n",
       "2    536365    84406B       CREAM CUPID HEARTS COAT HANGER         8   \n",
       "3    536365    84029G  KNITTED UNION FLAG HOT WATER BOTTLE         6   \n",
       "4    536365    84029E       RED WOOLLY HOTTIE WHITE HEART.         6   \n",
       "\n",
       "          InvoiceDate  UnitPrice  CustomerID         Country  Total_Price  \n",
       "0 2010-12-01 08:26:00       2.55     17850.0  United Kingdom        15.30  \n",
       "1 2010-12-01 08:26:00       3.39     17850.0  United Kingdom        20.34  \n",
       "2 2010-12-01 08:26:00       2.75     17850.0  United Kingdom        22.00  \n",
       "3 2010-12-01 08:26:00       3.39     17850.0  United Kingdom        20.34  \n",
       "4 2010-12-01 08:26:00       3.39     17850.0  United Kingdom        20.34  "
      ]
     },
     "execution_count": 313,
     "metadata": {},
     "output_type": "execute_result"
    }
   ],
   "source": [
    "raw.head()"
   ]
  },
  {
   "cell_type": "code",
   "execution_count": 314,
   "metadata": {},
   "outputs": [
    {
     "data": {
      "text/html": [
       "<div>\n",
       "<style scoped>\n",
       "    .dataframe tbody tr th:only-of-type {\n",
       "        vertical-align: middle;\n",
       "    }\n",
       "\n",
       "    .dataframe tbody tr th {\n",
       "        vertical-align: top;\n",
       "    }\n",
       "\n",
       "    .dataframe thead th {\n",
       "        text-align: right;\n",
       "    }\n",
       "</style>\n",
       "<table border=\"1\" class=\"dataframe\">\n",
       "  <thead>\n",
       "    <tr style=\"text-align: right;\">\n",
       "      <th></th>\n",
       "      <th>Recency</th>\n",
       "      <th>Frequency</th>\n",
       "      <th>Monetary_Value</th>\n",
       "    </tr>\n",
       "    <tr>\n",
       "      <th>CustomerID</th>\n",
       "      <th></th>\n",
       "      <th></th>\n",
       "      <th></th>\n",
       "    </tr>\n",
       "  </thead>\n",
       "  <tbody>\n",
       "    <tr>\n",
       "      <th>12346.0</th>\n",
       "      <td>325</td>\n",
       "      <td>1</td>\n",
       "      <td>77183.60</td>\n",
       "    </tr>\n",
       "    <tr>\n",
       "      <th>12347.0</th>\n",
       "      <td>1</td>\n",
       "      <td>182</td>\n",
       "      <td>4310.00</td>\n",
       "    </tr>\n",
       "    <tr>\n",
       "      <th>12348.0</th>\n",
       "      <td>74</td>\n",
       "      <td>31</td>\n",
       "      <td>1797.24</td>\n",
       "    </tr>\n",
       "    <tr>\n",
       "      <th>12349.0</th>\n",
       "      <td>18</td>\n",
       "      <td>73</td>\n",
       "      <td>1757.55</td>\n",
       "    </tr>\n",
       "    <tr>\n",
       "      <th>12350.0</th>\n",
       "      <td>309</td>\n",
       "      <td>17</td>\n",
       "      <td>334.40</td>\n",
       "    </tr>\n",
       "  </tbody>\n",
       "</table>\n",
       "</div>"
      ],
      "text/plain": [
       "            Recency  Frequency  Monetary_Value\n",
       "CustomerID                                    \n",
       "12346.0         325          1        77183.60\n",
       "12347.0           1        182         4310.00\n",
       "12348.0          74         31         1797.24\n",
       "12349.0          18         73         1757.55\n",
       "12350.0         309         17          334.40"
      ]
     },
     "execution_count": 314,
     "metadata": {},
     "output_type": "execute_result"
    }
   ],
   "source": [
    "#Let's create the RFM values for the given dataframe\n",
    "\n",
    "raw_agg=raw.groupby('CustomerID').agg({'InvoiceDate': lambda x: (max_date - max(x)).days,\n",
    "                              'InvoiceNo': lambda x:len(x),\n",
    "                              'Total_Price': lambda x:round(x.sum(),2)})\n",
    "\n",
    "raw_agg.rename(columns={'InvoiceDate':'Recency','InvoiceNo':'Frequency','Total_Price':'Monetary_Value'},inplace=True)\n",
    "\n",
    "raw_agg.head()"
   ]
  },
  {
   "cell_type": "markdown",
   "metadata": {},
   "source": [
    "Till now we created the features RFM, now let's assign a score value to those RFM to signifiy their importance per customer. Scores are calculated as below:\n",
    "\n",
    "Recency: The scores are calculated from 1-5 where 5 represents very recently bought item whereas 1 represents item bought long time back. For this we would sort the whole population in ascending order of recency and divide the whole population into a group of 5. Then simply assign numbers from 1-5 to those groups.\n",
    "\n",
    "Frequency & Monetary value: The scores are calculated in similar fashion for this too. But as higher is better in these features, we would sort the values in descending order and then assign the scores from 1-5 by dividing the population in 5 equal parts."
   ]
  },
  {
   "cell_type": "code",
   "execution_count": 315,
   "metadata": {
    "scrolled": true
   },
   "outputs": [
    {
     "data": {
      "text/html": [
       "<div>\n",
       "<style scoped>\n",
       "    .dataframe tbody tr th:only-of-type {\n",
       "        vertical-align: middle;\n",
       "    }\n",
       "\n",
       "    .dataframe tbody tr th {\n",
       "        vertical-align: top;\n",
       "    }\n",
       "\n",
       "    .dataframe thead th {\n",
       "        text-align: right;\n",
       "    }\n",
       "</style>\n",
       "<table border=\"1\" class=\"dataframe\">\n",
       "  <thead>\n",
       "    <tr style=\"text-align: right;\">\n",
       "      <th></th>\n",
       "      <th>f_score</th>\n",
       "      <th>m_score</th>\n",
       "      <th>r_score</th>\n",
       "    </tr>\n",
       "    <tr>\n",
       "      <th>CustomerID</th>\n",
       "      <th></th>\n",
       "      <th></th>\n",
       "      <th></th>\n",
       "    </tr>\n",
       "  </thead>\n",
       "  <tbody>\n",
       "    <tr>\n",
       "      <th>13318.0</th>\n",
       "      <td>2</td>\n",
       "      <td>3</td>\n",
       "      <td>5</td>\n",
       "    </tr>\n",
       "    <tr>\n",
       "      <th>16833.0</th>\n",
       "      <td>3</td>\n",
       "      <td>4</td>\n",
       "      <td>5</td>\n",
       "    </tr>\n",
       "    <tr>\n",
       "      <th>14621.0</th>\n",
       "      <td>4</td>\n",
       "      <td>4</td>\n",
       "      <td>5</td>\n",
       "    </tr>\n",
       "    <tr>\n",
       "      <th>13521.0</th>\n",
       "      <td>5</td>\n",
       "      <td>4</td>\n",
       "      <td>5</td>\n",
       "    </tr>\n",
       "    <tr>\n",
       "      <th>13510.0</th>\n",
       "      <td>4</td>\n",
       "      <td>4</td>\n",
       "      <td>5</td>\n",
       "    </tr>\n",
       "  </tbody>\n",
       "</table>\n",
       "</div>"
      ],
      "text/plain": [
       "            f_score  m_score  r_score\n",
       "CustomerID                           \n",
       "13318.0           2        3        5\n",
       "16833.0           3        4        5\n",
       "14621.0           4        4        5\n",
       "13521.0           5        4        5\n",
       "13510.0           4        4        5"
      ]
     },
     "execution_count": 315,
     "metadata": {},
     "output_type": "execute_result"
    }
   ],
   "source": [
    "# Create f_score\n",
    "\n",
    "f_score = []\n",
    "m_score = []\n",
    "r_score = []\n",
    "rfmTable=raw_agg\n",
    "\n",
    "columns = ['Frequency', 'Monetary_Value']\n",
    "scores_str = ['f_score', 'm_score']\n",
    "scores = [f_score, m_score]\n",
    "\n",
    "for n in range(len(columns)):\n",
    "    # Order by column\n",
    "    rfmTable = rfmTable.sort_values(columns[n], ascending=False)\n",
    "    \n",
    "    # Create new index\n",
    "    refs = np.arange(1,4340)\n",
    "    rfmTable['refs'] = refs\n",
    "    \n",
    "    # Add score\n",
    "    for i, row in rfmTable.iterrows():\n",
    "        if row['refs'] <= 866:\n",
    "            scores[n].append(5)\n",
    "        elif row['refs'] > 866 and row['refs'] <= 866*2:\n",
    "            scores[n].append(4)\n",
    "        elif row['refs'] > 866*2 and row['refs'] <= 866*3:\n",
    "            scores[n].append(3)\n",
    "        elif row['refs'] > 866*3 and row['refs'] <= 866*4:\n",
    "            scores[n].append(2)\n",
    "        else: \n",
    "            scores[n].append(1)\n",
    "\n",
    "    # Create f_score column\n",
    "    rfmTable[scores_str[n]] = scores[n]\n",
    "    \n",
    "# For recency, we do the opposite: most recents are better, so we order as ascending\n",
    "rfmTable = rfmTable.sort_values('Recency', ascending=True)\n",
    "    \n",
    "# Recreate index\n",
    "refs = np.arange(1,4340)\n",
    "rfmTable['refs'] = refs\n",
    "    \n",
    "# Add score\n",
    "for i, row in rfmTable.iterrows():\n",
    "    if row['refs'] <= 866:\n",
    "        r_score.append(5)\n",
    "    elif row['refs'] > 866 and row['refs'] <= 866*2:\n",
    "        r_score.append(4)\n",
    "    elif row['refs'] > 866*2 and row['refs'] <= 866*3:\n",
    "        r_score.append(3)\n",
    "    elif row['refs'] > 866*3 and row['refs'] <= 866*4:\n",
    "        r_score.append(2)\n",
    "    else: \n",
    "        r_score.append(1)\n",
    "\n",
    "# Create f_score column\n",
    "rfmTable['r_score'] = r_score\n",
    "    \n",
    "rfmTableScores = rfmTable.drop(['Frequency', 'Monetary_Value', 'Recency', 'refs'], axis=1)\n",
    "\n",
    "rfmTableScores.head(5)"
   ]
  },
  {
   "cell_type": "markdown",
   "metadata": {},
   "source": [
    "<h3> Lets create the clusters using k-means </h3>"
   ]
  },
  {
   "cell_type": "code",
   "execution_count": 316,
   "metadata": {},
   "outputs": [],
   "source": [
    "raw_kmeans= rfmTableScores[['r_score','f_score','m_score']]"
   ]
  },
  {
   "cell_type": "code",
   "execution_count": 317,
   "metadata": {},
   "outputs": [],
   "source": [
    "from sklearn.cluster import KMeans"
   ]
  },
  {
   "cell_type": "code",
   "execution_count": 318,
   "metadata": {},
   "outputs": [],
   "source": [
    "#As all our scores are on the same scale from 1 to 5, we do not perform any additional scaling operation on the dataset\n",
    "\n",
    "wcss = []\n",
    "\n",
    "for i in range(1,11):\n",
    "    kmeans = KMeans(n_clusters=i,init='k-means++',random_state=0)\n",
    "    kmeans.fit(raw_kmeans)\n",
    "    wcss.append(kmeans.inertia_)"
   ]
  },
  {
   "cell_type": "code",
   "execution_count": 319,
   "metadata": {},
   "outputs": [
    {
     "data": {
      "image/png": "[encoded data removed]",
      "text/plain": [
       "<Figure size 1152x720 with 1 Axes>"
      ]
     },
     "metadata": {
      "needs_background": "light"
     },
     "output_type": "display_data"
    }
   ],
   "source": [
    "plt.figure(figsize=(16,10))\n",
    "plt.plot(range(1,11), wcss)\n",
    "plt.title('Elbow graph')\n",
    "plt.xlabel('Cluster number')\n",
    "plt.ylabel('WCSS')\n",
    "plt.show()"
   ]
  },
  {
   "cell_type": "code",
   "execution_count": 320,
   "metadata": {},
   "outputs": [],
   "source": [
    "#from above plot we can see that after cluster 4-5 the error gets almost 0, thus we would pick k as 4 clusters.\n",
    "\n",
    "kmeans = KMeans(n_clusters=4,init='k-means++',random_state=0)\n",
    "clusters = kmeans.fit_predict(raw_kmeans)"
   ]
  },
  {
   "cell_type": "code",
   "execution_count": 321,
   "metadata": {},
   "outputs": [],
   "source": [
    "rfmTable['cluster']=clusters\n"
   ]
  },
  {
   "cell_type": "code",
   "execution_count": 322,
   "metadata": {},
   "outputs": [
    {
     "data": {
      "text/plain": [
       "<matplotlib.legend.Legend at 0x210c0e86748>"
      ]
     },
     "execution_count": 322,
     "metadata": {},
     "output_type": "execute_result"
    },
    {
     "data": {
      "image/png": "[encoded data removed]",
      "text/plain": [
       "<Figure size 1152x720 with 1 Axes>"
      ]
     },
     "metadata": {
      "needs_background": "light"
     },
     "output_type": "display_data"
    }
   ],
   "source": [
    "#Let's visualize the clusters to understand the segmentation\n",
    "\n",
    "\n",
    "c1 = rfmTable[rfmTable.cluster == 0]\n",
    "c2 = rfmTable[rfmTable.cluster == 1]\n",
    "c3 = rfmTable[rfmTable.cluster == 2]\n",
    "c4 = rfmTable[rfmTable.cluster == 3]\n",
    "\n",
    "plt.figure(figsize=(16,10))\n",
    "\n",
    "plt.scatter(c1.Recency, c1.Frequency, c = 'blue', label = 'Cluster 1')\n",
    "plt.scatter(c2.Recency, c2.Frequency, c = 'yellow', label = 'Cluster 2')\n",
    "plt.scatter(c3.Recency, c3.Frequency, c = 'green', label = 'Cluster 3')\n",
    "plt.scatter(c4.Recency, c4.Frequency, c = 'red', label = 'Cluster 4')\n",
    "\n",
    "plt.title('Clusters of customers')\n",
    "plt.xlabel('Recency')\n",
    "plt.ylabel('Frequency')\n",
    "plt.legend()"
   ]
  },
  {
   "cell_type": "code",
   "execution_count": 323,
   "metadata": {},
   "outputs": [
    {
     "data": {
      "text/plain": [
       "<matplotlib.legend.Legend at 0x210c14aab70>"
      ]
     },
     "execution_count": 323,
     "metadata": {},
     "output_type": "execute_result"
    },
    {
     "data": {
      "image/png": "[encoded data removed]",
      "text/plain": [
       "<Figure size 1152x720 with 1 Axes>"
      ]
     },
     "metadata": {
      "needs_background": "light"
     },
     "output_type": "display_data"
    }
   ],
   "source": [
    "c1 = rfmTable[rfmTable.cluster == 0]\n",
    "c2 = rfmTable[rfmTable.cluster == 1]\n",
    "c3 = rfmTable[rfmTable.cluster == 2]\n",
    "c4 = rfmTable[rfmTable.cluster == 3]\n",
    "\n",
    "plt.figure(figsize=(16,10))\n",
    "\n",
    "plt.scatter( c1.Frequency, c1.Monetary_Value,c = 'blue', label = 'Cluster 1')\n",
    "plt.scatter( c2.Frequency,c2.Monetary_Value, c = 'yellow', label = 'Cluster 2')\n",
    "plt.scatter(c3.Frequency,c3.Monetary_Value, c = 'green', label = 'Cluster 3')\n",
    "plt.scatter(c4.Frequency,c4.Monetary_Value, c = 'red', label = 'Cluster 4')\n",
    "\n",
    "plt.title('Clusters of customers')\n",
    "plt.xlabel('Monetary Value')\n",
    "plt.ylabel('Frequency')\n",
    "plt.legend()"
   ]
  },
  {
   "cell_type": "code",
   "execution_count": 324,
   "metadata": {},
   "outputs": [
    {
     "data": {
      "text/plain": [
       "<matplotlib.legend.Legend at 0x210c233c2e8>"
      ]
     },
     "execution_count": 324,
     "metadata": {},
     "output_type": "execute_result"
    },
    {
     "data": {
      "image/png": "[encoded data removed]",
      "text/plain": [
       "<Figure size 1152x720 with 1 Axes>"
      ]
     },
     "metadata": {
      "needs_background": "light"
     },
     "output_type": "display_data"
    }
   ],
   "source": [
    "c1 = rfmTable[rfmTable.cluster == 0]\n",
    "c2 = rfmTable[rfmTable.cluster == 1]\n",
    "c3 = rfmTable[rfmTable.cluster == 2]\n",
    "c4 = rfmTable[rfmTable.cluster == 3]\n",
    "\n",
    "plt.figure(figsize=(16,10))\n",
    "\n",
    "plt.scatter(c1.Recency, c1.Monetary_Value, c = 'blue', label = 'Cluster 1')\n",
    "plt.scatter(c2.Recency, c2.Monetary_Value, c = 'yellow', label = 'Cluster 2')\n",
    "plt.scatter(c3.Recency, c3.Monetary_Value, c = 'green', label = 'Cluster 3')\n",
    "plt.scatter(c4.Recency, c4.Monetary_Value, c = 'red', label = 'Cluster 4')\n",
    "\n",
    "plt.title('Clusters of clients')\n",
    "plt.xlabel('Recency')\n",
    "plt.ylabel('Monetary')\n",
    "plt.legend()"
   ]
  },
  {
   "cell_type": "markdown",
   "metadata": {},
   "source": [
    "<h3> Conclusion: </h3>\n",
    "   From the above plots we can conclude that customers in cluster 2 and 3 are our ideal loyal customer who have shopped recently , frequently and also have contributed well to the monetary value. However we would need to focus more on customers from cluster 1 & 4 to engage them more and understand their needs separately.\n"
   ]
  },
  {
   "cell_type": "markdown",
   "metadata": {},
   "source": [
    "<h3> Who are our top 10 customers? </h3>\n",
    "Answer: Below mentioned are our top 10 customers there cluster number is actually 2 as numerically they are from 0-3"
   ]
  },
  {
   "cell_type": "code",
   "execution_count": 343,
   "metadata": {},
   "outputs": [
    {
     "data": {
      "text/html": [
       "<div>\n",
       "<style scoped>\n",
       "    .dataframe tbody tr th:only-of-type {\n",
       "        vertical-align: middle;\n",
       "    }\n",
       "\n",
       "    .dataframe tbody tr th {\n",
       "        vertical-align: top;\n",
       "    }\n",
       "\n",
       "    .dataframe thead th {\n",
       "        text-align: right;\n",
       "    }\n",
       "</style>\n",
       "<table border=\"1\" class=\"dataframe\">\n",
       "  <thead>\n",
       "    <tr style=\"text-align: right;\">\n",
       "      <th></th>\n",
       "      <th>Recency</th>\n",
       "      <th>Frequency</th>\n",
       "      <th>Monetary_Value</th>\n",
       "      <th>refs</th>\n",
       "      <th>f_score</th>\n",
       "      <th>m_score</th>\n",
       "      <th>r_score</th>\n",
       "      <th>cluster</th>\n",
       "    </tr>\n",
       "    <tr>\n",
       "      <th>CustomerID</th>\n",
       "      <th></th>\n",
       "      <th></th>\n",
       "      <th></th>\n",
       "      <th></th>\n",
       "      <th></th>\n",
       "      <th></th>\n",
       "      <th></th>\n",
       "      <th></th>\n",
       "    </tr>\n",
       "  </thead>\n",
       "  <tbody>\n",
       "    <tr>\n",
       "      <th>14646.0</th>\n",
       "      <td>1</td>\n",
       "      <td>2080</td>\n",
       "      <td>280206.02</td>\n",
       "      <td>148</td>\n",
       "      <td>5</td>\n",
       "      <td>5</td>\n",
       "      <td>5</td>\n",
       "      <td>1</td>\n",
       "    </tr>\n",
       "    <tr>\n",
       "      <th>18102.0</th>\n",
       "      <td>0</td>\n",
       "      <td>431</td>\n",
       "      <td>259657.30</td>\n",
       "      <td>78</td>\n",
       "      <td>5</td>\n",
       "      <td>5</td>\n",
       "      <td>5</td>\n",
       "      <td>1</td>\n",
       "    </tr>\n",
       "    <tr>\n",
       "      <th>17450.0</th>\n",
       "      <td>7</td>\n",
       "      <td>337</td>\n",
       "      <td>194550.79</td>\n",
       "      <td>577</td>\n",
       "      <td>5</td>\n",
       "      <td>5</td>\n",
       "      <td>5</td>\n",
       "      <td>1</td>\n",
       "    </tr>\n",
       "    <tr>\n",
       "      <th>14911.0</th>\n",
       "      <td>0</td>\n",
       "      <td>5677</td>\n",
       "      <td>143825.06</td>\n",
       "      <td>91</td>\n",
       "      <td>5</td>\n",
       "      <td>5</td>\n",
       "      <td>5</td>\n",
       "      <td>1</td>\n",
       "    </tr>\n",
       "    <tr>\n",
       "      <th>14156.0</th>\n",
       "      <td>9</td>\n",
       "      <td>1400</td>\n",
       "      <td>117379.63</td>\n",
       "      <td>671</td>\n",
       "      <td>5</td>\n",
       "      <td>5</td>\n",
       "      <td>5</td>\n",
       "      <td>1</td>\n",
       "    </tr>\n",
       "    <tr>\n",
       "      <th>17511.0</th>\n",
       "      <td>2</td>\n",
       "      <td>963</td>\n",
       "      <td>91062.38</td>\n",
       "      <td>208</td>\n",
       "      <td>5</td>\n",
       "      <td>5</td>\n",
       "      <td>5</td>\n",
       "      <td>1</td>\n",
       "    </tr>\n",
       "    <tr>\n",
       "      <th>16684.0</th>\n",
       "      <td>3</td>\n",
       "      <td>277</td>\n",
       "      <td>66653.56</td>\n",
       "      <td>280</td>\n",
       "      <td>5</td>\n",
       "      <td>5</td>\n",
       "      <td>5</td>\n",
       "      <td>1</td>\n",
       "    </tr>\n",
       "    <tr>\n",
       "      <th>14096.0</th>\n",
       "      <td>3</td>\n",
       "      <td>5111</td>\n",
       "      <td>65164.79</td>\n",
       "      <td>275</td>\n",
       "      <td>5</td>\n",
       "      <td>5</td>\n",
       "      <td>5</td>\n",
       "      <td>1</td>\n",
       "    </tr>\n",
       "    <tr>\n",
       "      <th>13694.0</th>\n",
       "      <td>3</td>\n",
       "      <td>568</td>\n",
       "      <td>65039.62</td>\n",
       "      <td>273</td>\n",
       "      <td>5</td>\n",
       "      <td>5</td>\n",
       "      <td>5</td>\n",
       "      <td>1</td>\n",
       "    </tr>\n",
       "    <tr>\n",
       "      <th>15311.0</th>\n",
       "      <td>0</td>\n",
       "      <td>2379</td>\n",
       "      <td>60767.90</td>\n",
       "      <td>71</td>\n",
       "      <td>5</td>\n",
       "      <td>5</td>\n",
       "      <td>5</td>\n",
       "      <td>1</td>\n",
       "    </tr>\n",
       "  </tbody>\n",
       "</table>\n",
       "</div>"
      ],
      "text/plain": [
       "            Recency  Frequency  Monetary_Value  refs  f_score  m_score  \\\n",
       "CustomerID                                                               \n",
       "14646.0           1       2080       280206.02   148        5        5   \n",
       "18102.0           0        431       259657.30    78        5        5   \n",
       "17450.0           7        337       194550.79   577        5        5   \n",
       "14911.0           0       5677       143825.06    91        5        5   \n",
       "14156.0           9       1400       117379.63   671        5        5   \n",
       "17511.0           2        963        91062.38   208        5        5   \n",
       "16684.0           3        277        66653.56   280        5        5   \n",
       "14096.0           3       5111        65164.79   275        5        5   \n",
       "13694.0           3        568        65039.62   273        5        5   \n",
       "15311.0           0       2379        60767.90    71        5        5   \n",
       "\n",
       "            r_score  cluster  \n",
       "CustomerID                    \n",
       "14646.0           5        1  \n",
       "18102.0           5        1  \n",
       "17450.0           5        1  \n",
       "14911.0           5        1  \n",
       "14156.0           5        1  \n",
       "17511.0           5        1  \n",
       "16684.0           5        1  \n",
       "14096.0           5        1  \n",
       "13694.0           5        1  \n",
       "15311.0           5        1  "
      ]
     },
     "execution_count": 343,
     "metadata": {},
     "output_type": "execute_result"
    }
   ],
   "source": [
    "rfmTable[(rfmTable['f_score']== 5 ) & (rfmTable['m_score'] == 5) &(rfmTable['r_score'] == 5)].sort_values('Monetary_Value',ascending=False).head(10)"
   ]
  },
  {
   "cell_type": "code",
   "execution_count": null,
   "metadata": {},
   "outputs": [],
   "source": []
  }
 ],
 "metadata": {
  "kernelspec": {
   "display_name": "Python 3",
   "language": "python",
   "name": "python3"
  },
  "language_info": {
   "codemirror_mode": {
    "name": "ipython",
    "version": 3
   },
   "file_extension": ".py",
   "mimetype": "text/x-python",
   "name": "python",
   "nbconvert_exporter": "python",
   "pygments_lexer": "ipython3",
   "version": "3.7.0"
  }
 },
 "nbformat": 4,
 "nbformat_minor": 2
}
